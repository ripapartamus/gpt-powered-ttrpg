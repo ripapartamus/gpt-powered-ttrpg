{
 "cells": [
  {
   "cell_type": "code",
   "execution_count": null,
   "id": "88b224fe",
   "metadata": {},
   "outputs": [],
   "source": [
    "# import tiktoken\n",
    "\n",
    "# def num_tokens_from_string(string: str, encoding_name: str) -> int:\n",
    "#     encoding = tiktoken.encoding_for_model(encoding_name)\n",
    "#     num_tokens = len(encoding.encode(string))\n",
    "#     return num_tokens\n",
    "\n",
    "# print(num_tokens_from_string(class_prompt_full, \"gpt-3.5-turbo\"))"
   ]
  },
  {
   "cell_type": "code",
   "execution_count": 1,
   "id": "8df8a5ee",
   "metadata": {},
   "outputs": [],
   "source": [
    "from main import TTRPGPT\n",
    "\n",
    "# Create an instance of the SetupSetting class\n",
    "game = TTRPGPT()"
   ]
  },
  {
   "cell_type": "code",
   "execution_count": 2,
   "id": "539a0896",
   "metadata": {
    "scrolled": false
   },
   "outputs": [
    {
     "name": "stdout",
     "output_type": "stream",
     "text": [
      "Welcome to 1001 Nights, a TTRPGPT game!\n",
      "Would you like to create a new game, or load a saved game?\n",
      "1. New game\n",
      "2. Load game\n",
      "Your answer (1/2): 1\n",
      "It's the dawn of a new world! \n",
      "\n",
      "Every aspect of this game will be totally unique to you--the setting, the story, the characters, it will all be generated based on your choices.\n",
      "\n",
      "How would you like to generate your world?\n",
      "1. Take a personality quiz to generate the setting\n",
      "2. I'll chose the setting for myself\n",
      "Your answer (1/2): 2\n",
      "\n",
      "\n",
      "Okay! Let's get started! You will be selecting two of these setting categories to create your world. You will then select a specific setting subcategory within those two.\n",
      "\n",
      "\n",
      "Please select your first setting category from the following options:\n",
      "\n",
      "1. Fantasy\n",
      "2. Sci-Fi\n",
      "3. Mythology\n",
      "4. Punk\n",
      "5. Horror\n",
      "6. Stylish\n",
      "7. Cinematic\n",
      "Choose a number between 1 and 7: 1\n",
      "\n",
      "Now select a second category from the following options:\n",
      "\n",
      "1. Sci-Fi\n",
      "2. Mythology\n",
      "3. Punk\n",
      "4. Horror\n",
      "5. Stylish\n",
      "6. Cinematic\n",
      "Choose a number between 1 and 6: 4\n",
      "\n",
      "Please select from the following Fantasy subcategories:\n",
      "\n",
      "1. High fantasy\n",
      "2. Low fantasy\n",
      "3. Rainbow fantasy\n",
      "4. Talking animals\n",
      "Choose a number between 1 and 4: 3\n",
      "\n",
      "Please select from the following Horror subcategories:\n",
      "\n",
      "1. Gothic horror\n",
      "2. Eldtritch horror\n",
      "3. Vampire\n",
      "Choose a number between 1 and 3: 2\n",
      "\n",
      "I prefer the tone of role-playing games to be:\n",
      "1. light and playful\n",
      "2. dark and serious\n",
      "3. contemplative and high-concept\n",
      "4. balanced between light, serious, and contemplative\n",
      "5. kid-friendly\n",
      "Choose a number between 1 and 5: 2\n",
      "\n",
      "Generating your world...\n",
      "\n",
      "Welcome to The Realm of Chromatic Shadows, a world where the vibrant and fantastical collide with the eerie and eldritch. Prepare yourself for a journey through a land where rainbows illuminate the darkness, and where horrors beyond mortal comprehension lurk in the shadows.\n",
      "\n",
      "Here is some information about the world you will inhabit:\n",
      "\n",
      "WORLD_DETAILS: In this world, the average person lives in a constant state of awe and fear. The vibrant landscapes are a testament to the wonders of the Rainbow fantasy, where colors dance in the air and creatures possess shimmering hues. However, beneath the surface beauty lies a lurking darkness. Eldritch horrors, ancient beings of unimaginable power and malevolence, seep into the world, corrupting and warping everything they touch.\n",
      "\n",
      "CONFLICT: The predominant conflict in The Realm of Chromatic Shadows is the battle between the forces of light and darkness. The Rainbow fantasy, with its vibrant magic and guardians, strives to keep the eldritch horrors at bay, protecting the fragile balance between the two. As a player in this world, you will be thrust into the midst of this conflict, where your choices will shape the fate of the realm.\n",
      "\n",
      "FUN_FACTS: ['In The Realm of Chromatic Shadows, rainbows are not just a visual phenomenon but a tangible force of magic. Skilled individuals can harness the power of rainbows to cast spells and create wondrous illusions.', 'The inhabitants of this world have developed a unique way of communicating using color-coded gestures. Each color represents a specific meaning or emotion, allowing for intricate conversations even in complete silence.', 'The eldritch horrors that threaten The Realm of Chromatic Shadows are not mindless monsters, but ancient entities with their own twisted intelligence. Some even possess the ability to manipulate and corrupt the very essence of magic itself.']\n",
      "\n",
      "\n",
      "Please wait while we fill the world with interesting places...\n",
      "\n",
      "World map has been generated!\n",
      "\n",
      "Your journey begins! Now you'll decide how you fit in.\n",
      "\n",
      "What are your preferred pronouns?\n",
      "A: She/her\n",
      "B: He/him\n",
      "C: They/them\n",
      "Your answer (A/B/C): A\n",
      "\n",
      "Generating player races...\n",
      "\n",
      "\n",
      "Of the following races, which would you like your character to be?\n",
      "A: Chromatics - The Chromatics are a race of beings who embody the vibrant magic of the Rainbow fantasy. They possess the ability to manipulate and harness the power of rainbows, using it to cast spells and create dazzling illusions.\n",
      "B: Shadowkin - The Shadowkin are a mysterious race born from the darkness that lurks beneath the surface beauty of the Realm. They possess an innate connection to the eldritch horrors, which grants them unique abilities to manipulate shadows and tap into forbidden arcane powers.\n",
      "C: Lumina - The Lumina are ethereal beings of pure light, who are tasked with guarding the Rainbow fantasy against the encroaching darkness. They possess radiant beauty and the ability to channel their inner light into powerful healing and protective magic.\n",
      "D: Tainted - The Tainted are unfortunate individuals who have been corrupted by the eldritch horrors. They struggle with their own inner darkness, but also possess a twisted form of magic that allows them to tap into forbidden powers and manipulate the corruption around them.\n",
      "Please enter your choice (A, B, C, D): C\n",
      "\n",
      "Generating player classes...\n",
      "\n",
      "\n",
      "Of the following starting classes, which would you like your character to be?\n",
      "A: Radiant Soul - Harness the power of light and healing as a Radiant Soul, using your Lumina heritage to bolster your allies and vanquish darkness.\n",
      "B: Shadow Walker - Embrace the duality of your Lumina nature as a Shadow Walker, mastering both light and darkness to manipulate shadows and deceive your enemies.\n",
      "C: Eldritch Binder - Tap into the ancient knowledge of the eldritch horrors as an Eldritch Binder, using their twisted magic against them while still preserving your Lumina essence.\n",
      "D: Rainbow Mage - Become a master of the Rainbow fantasy as a Rainbow Mage, wielding the power of vibrant magic to manipulate colors, create illusions, and cast devastating spells.\n",
      "Please enter your choice (A, B, C, D): D\n",
      "\n",
      "Generating player backgrounds...\n",
      "\n",
      "\n",
      "Of the following backgrounds, which would you like your character to come from?\n",
      "A: Radiant Guardian - You were raised in the Prismatic Glades, surrounded by the vibrant beauty of the Rainbow fantasy. As a Lumina, you were chosen to become a guardian of the realm, honing your skills in healing and protective magic.\n",
      "B: Tainted Seeker - You ventured into the Umbral Nexus in search of forbidden knowledge, driven by a desperate desire to understand the darkness that threatens the realm. As a Rainbow Mage, you were able to resist the corrupting influence, but the experience left you forever changed.\n",
      "C: City Scholar - Growing up in the Prism City, you immersed yourself in the study of magic and the delicate balance between light and darkness. As a Rainbow Mage, you sought to unravel the secrets of the Rainbow fantasy and the eldritch horrors that lurk in the shadows.\n",
      "D: Lost Wanderer - You were born and raised in the Whispering Woods, hearing the whispers of ancient magic and the legends of the Luminous Heart. As a Lumina with a natural affinity for the Rainbow fantasy, you set out on a quest to find the artifact and save the realm.\n",
      "Please enter your choice (A, B, C, D): D\n",
      "\n",
      "What is your name?\n",
      "(Maximum 20 characters): Caela\n",
      "\n",
      "Now, we'll begin writing the story. Please wait a moment...\n",
      "\n",
      "\n",
      "You start your journey in the Whispering Woods, a dense forest shrouded in perpetual twilight. As a Lumina, an ethereal being of pure light, you have always felt a deep connection to this place, hearing the whispers of ancient magic and the legends of the Luminous Heart. You are a Rainbow Mage, wielding the power of vibrant magic to manipulate colors, create illusions, and cast devastating spells. As a Lost Wanderer, you set out on a quest to find the Luminous Heart and save the realm.\n",
      "\n",
      "\n",
      " Let's get started!\n",
      "Enter a name for your game save subfolder: caelas_world\n"
     ]
    },
    {
     "ename": "NameError",
     "evalue": "name 're' is not defined",
     "output_type": "error",
     "traceback": [
      "\u001b[1;31m---------------------------------------------------------------------------\u001b[0m",
      "\u001b[1;31mNameError\u001b[0m                                 Traceback (most recent call last)",
      "Input \u001b[1;32mIn [2]\u001b[0m, in \u001b[0;36m<cell line: 1>\u001b[1;34m()\u001b[0m\n\u001b[1;32m----> 1\u001b[0m \u001b[43mgame\u001b[49m\u001b[38;5;241;43m.\u001b[39;49m\u001b[43mrun_game\u001b[49m\u001b[43m(\u001b[49m\u001b[43m)\u001b[49m\n",
      "File \u001b[1;32m~\\PycharmProjects\\gpt-powered-ttrpg\\main.py:19\u001b[0m, in \u001b[0;36mTTRPGPT.run_game\u001b[1;34m(self)\u001b[0m\n\u001b[0;32m     17\u001b[0m \u001b[38;5;28;01mdef\u001b[39;00m \u001b[38;5;21mrun_game\u001b[39m(\u001b[38;5;28mself\u001b[39m):\n\u001b[0;32m     18\u001b[0m     \u001b[38;5;28mprint\u001b[39m(startup_welcome_message)\n\u001b[1;32m---> 19\u001b[0m     \u001b[38;5;28;43mself\u001b[39;49m\u001b[38;5;241;43m.\u001b[39;49m\u001b[43mload_or_new_game\u001b[49m\u001b[43m(\u001b[49m\u001b[43m)\u001b[49m\n",
      "File \u001b[1;32m~\\PycharmProjects\\gpt-powered-ttrpg\\main.py:30\u001b[0m, in \u001b[0;36mTTRPGPT.load_or_new_game\u001b[1;34m(self)\u001b[0m\n\u001b[0;32m     28\u001b[0m     user_response \u001b[38;5;241m=\u001b[39m \u001b[38;5;28minput\u001b[39m(\u001b[38;5;124m\"\u001b[39m\u001b[38;5;124mYour answer (1/2): \u001b[39m\u001b[38;5;124m\"\u001b[39m)\n\u001b[0;32m     29\u001b[0m \u001b[38;5;28;01mif\u001b[39;00m user_response \u001b[38;5;241m==\u001b[39m \u001b[38;5;124m\"\u001b[39m\u001b[38;5;124m1\u001b[39m\u001b[38;5;124m\"\u001b[39m:\n\u001b[1;32m---> 30\u001b[0m     \u001b[38;5;28;43mself\u001b[39;49m\u001b[38;5;241;43m.\u001b[39;49m\u001b[43mnew_game\u001b[49m\u001b[43m(\u001b[49m\u001b[43m)\u001b[49m\n\u001b[0;32m     31\u001b[0m \u001b[38;5;28;01melse\u001b[39;00m:\n\u001b[0;32m     32\u001b[0m     \u001b[38;5;28mself\u001b[39m\u001b[38;5;241m.\u001b[39mload_game()\n",
      "File \u001b[1;32m~\\PycharmProjects\\gpt-powered-ttrpg\\main.py:58\u001b[0m, in \u001b[0;36mTTRPGPT.new_game\u001b[1;34m(self)\u001b[0m\n\u001b[0;32m     55\u001b[0m \u001b[38;5;28mprint\u001b[39m(\u001b[38;5;124m\"\u001b[39m\u001b[38;5;130;01m\\n\u001b[39;00m\u001b[38;5;130;01m\\n\u001b[39;00m\u001b[38;5;124mLet\u001b[39m\u001b[38;5;124m'\u001b[39m\u001b[38;5;124ms get started!\u001b[39m\u001b[38;5;124m\"\u001b[39m)\n\u001b[0;32m     57\u001b[0m \u001b[38;5;66;03m# save all this info\u001b[39;00m\n\u001b[1;32m---> 58\u001b[0m \u001b[38;5;28;43mself\u001b[39;49m\u001b[38;5;241;43m.\u001b[39;49m\u001b[43msave_game_data\u001b[49m\u001b[43m(\u001b[49m\u001b[43m)\u001b[49m\n",
      "File \u001b[1;32m~\\PycharmProjects\\gpt-powered-ttrpg\\main.py:63\u001b[0m, in \u001b[0;36mTTRPGPT.save_game_data\u001b[1;34m(self)\u001b[0m\n\u001b[0;32m     61\u001b[0m \u001b[38;5;28;01mdef\u001b[39;00m \u001b[38;5;21msave_game_data\u001b[39m(\u001b[38;5;28mself\u001b[39m):\n\u001b[0;32m     62\u001b[0m     \u001b[38;5;66;03m# Prompt for subfolder name with validation\u001b[39;00m\n\u001b[1;32m---> 63\u001b[0m     subfolder_name \u001b[38;5;241m=\u001b[39m \u001b[38;5;28;43mself\u001b[39;49m\u001b[38;5;241;43m.\u001b[39;49m\u001b[43mget_valid_subfolder_name\u001b[49m\u001b[43m(\u001b[49m\u001b[43m)\u001b[49m\n\u001b[0;32m     65\u001b[0m     \u001b[38;5;66;03m# Create the 'save_game' directory and the subfolder\u001b[39;00m\n\u001b[0;32m     66\u001b[0m     subfolder_path \u001b[38;5;241m=\u001b[39m \u001b[38;5;28mself\u001b[39m\u001b[38;5;241m.\u001b[39mcreate_subfolder(subfolder_name)\n",
      "File \u001b[1;32m~\\PycharmProjects\\gpt-powered-ttrpg\\main.py:80\u001b[0m, in \u001b[0;36mTTRPGPT.get_valid_subfolder_name\u001b[1;34m(self)\u001b[0m\n\u001b[0;32m     78\u001b[0m subfolder_name \u001b[38;5;241m=\u001b[39m \u001b[38;5;28minput\u001b[39m(\u001b[38;5;124m\"\u001b[39m\u001b[38;5;124mEnter a name for your game save subfolder: \u001b[39m\u001b[38;5;124m\"\u001b[39m)\u001b[38;5;241m.\u001b[39mstrip()\n\u001b[0;32m     79\u001b[0m \u001b[38;5;66;03m# Check if the folder name is valid\u001b[39;00m\n\u001b[1;32m---> 80\u001b[0m \u001b[38;5;28;01mif\u001b[39;00m \u001b[43mre\u001b[49m\u001b[38;5;241m.\u001b[39mmatch(\u001b[38;5;124m\"\u001b[39m\u001b[38;5;124m^[a-zA-Z0-9_\u001b[39m\u001b[38;5;124m\\\u001b[39m\u001b[38;5;124m- ]+$\u001b[39m\u001b[38;5;124m\"\u001b[39m, subfolder_name):\n\u001b[0;32m     81\u001b[0m     \u001b[38;5;28;01mreturn\u001b[39;00m subfolder_name\n\u001b[0;32m     82\u001b[0m \u001b[38;5;28;01melse\u001b[39;00m:\n",
      "\u001b[1;31mNameError\u001b[0m: name 're' is not defined"
     ]
    }
   ],
   "source": [
    "game.run_game()"
   ]
  },
  {
   "cell_type": "code",
   "execution_count": null,
   "id": "221903f5",
   "metadata": {},
   "outputs": [],
   "source": [
    "# for debugging purposes, you can take a look at all the info generated so far"
   ]
  },
  {
   "cell_type": "code",
   "execution_count": null,
   "id": "023117e7",
   "metadata": {},
   "outputs": [],
   "source": [
    "game.selected_tone"
   ]
  },
  {
   "cell_type": "code",
   "execution_count": null,
   "id": "e55e1c3f",
   "metadata": {},
   "outputs": [],
   "source": [
    "game.setting_details"
   ]
  },
  {
   "cell_type": "code",
   "execution_count": null,
   "id": "411f7a1d",
   "metadata": {},
   "outputs": [],
   "source": [
    "game.locations_of_interest"
   ]
  },
  {
   "cell_type": "code",
   "execution_count": null,
   "id": "6673483f",
   "metadata": {
    "scrolled": true
   },
   "outputs": [],
   "source": [
    "game.player_character"
   ]
  },
  {
   "cell_type": "code",
   "execution_count": null,
   "id": "e5c8f605",
   "metadata": {},
   "outputs": [],
   "source": [
    "game.story_beats"
   ]
  },
  {
   "cell_type": "code",
   "execution_count": null,
   "id": "824c8f12",
   "metadata": {},
   "outputs": [],
   "source": []
  }
 ],
 "metadata": {
  "kernelspec": {
   "display_name": "Python 3 (ipykernel)",
   "language": "python",
   "name": "python3"
  },
  "language_info": {
   "codemirror_mode": {
    "name": "ipython",
    "version": 3
   },
   "file_extension": ".py",
   "mimetype": "text/x-python",
   "name": "python",
   "nbconvert_exporter": "python",
   "pygments_lexer": "ipython3",
   "version": "3.9.12"
  }
 },
 "nbformat": 4,
 "nbformat_minor": 5
}
