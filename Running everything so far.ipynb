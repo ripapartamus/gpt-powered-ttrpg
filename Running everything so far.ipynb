{
 "cells": [
  {
   "cell_type": "code",
   "execution_count": null,
   "id": "88b224fe",
   "metadata": {},
   "outputs": [],
   "source": [
    "# import tiktoken\n",
    "\n",
    "# def num_tokens_from_string(string: str, encoding_name: str) -> int:\n",
    "#     encoding = tiktoken.encoding_for_model(encoding_name)\n",
    "#     num_tokens = len(encoding.encode(string))\n",
    "#     return num_tokens\n",
    "\n",
    "# print(num_tokens_from_string(class_prompt_full, \"gpt-3.5-turbo\"))"
   ]
  },
  {
   "cell_type": "code",
   "execution_count": 1,
   "id": "8df8a5ee",
   "metadata": {},
   "outputs": [],
   "source": [
    "from setting_up_story import GenerateStory\n",
    "\n",
    "# Create an instance of the SetupSetting class\n",
    "story_creator = GenerateStory()"
   ]
  },
  {
   "cell_type": "code",
   "execution_count": 2,
   "id": "a4c61896",
   "metadata": {},
   "outputs": [
    {
     "name": "stdout",
     "output_type": "stream",
     "text": [
      "Welcome! How would you like to generate your new world?\n",
      "A. Take a personality quiz generate a setting\n",
      "B. I'll chose the setting for myself\n",
      "Your answer (A/B): A\n",
      "What is your favorite type of weather?\n",
      "  A: Sunny and clear skies\n",
      "  B: Rainy and stormy\n",
      "  C: Snowy and cold\n",
      "  D: Foggy and mysterious\n",
      "Your answer (A/B/C/D): A\n",
      "Which color palette appeals to you the most?\n",
      "  A: Bright and vibrant colors\n",
      "  B: Dark and moody colors\n",
      "  C: Neutral and earthy tones\n",
      "  D: Bold and contrasting colors\n",
      "Your answer (A/B/C/D): B\n",
      "What kind of landscape do you find most captivating?\n",
      "  A: Lush forests and rolling hills\n",
      "  B: Majestic mountains and deep valleys\n",
      "  C: Endless deserts and vast plains\n",
      "  D: Mysterious swamps and dense jungles\n",
      "Your answer (A/B/C/D): C\n",
      "Which mythical creature would you want as a pet?\n",
      "  A: Dragon\n",
      "  B: Unicorn\n",
      "  C: Phoenix\n",
      "  D: Sphinx\n",
      "Your answer (A/B/C/D): D\n",
      "What type of architecture fascinates you the most?\n",
      "  A: Grand castles and medieval structures\n",
      "  B: Sleek and futuristic skyscrapers\n",
      "  C: Quaint cottages and cozy cabins\n",
      "  D: Ancient ruins and temples\n",
      "Your answer (A/B/C/D): C\n",
      "Which historical era would you love to visit?\n",
      "  A: Renaissance\n",
      "  B: Industrial Revolution\n",
      "  C: Ancient Egypt\n",
      "  D: Feudal Japan\n",
      "Your answer (A/B/C/D): B\n",
      "What is your favorite type of music?\n",
      "  A: Epic orchestral music\n",
      "  B: Gothic rock and metal\n",
      "  C: Folk and acoustic\n",
      "  D: Electronic and techno\n",
      "Your answer (A/B/C/D): B\n",
      "What is your dream mode of transportation?\n",
      "  A: Flying on the back of a magical creature\n",
      "  B: Sleek and futuristic hovercraft\n",
      "  C: Classic steam-powered locomotive\n",
      "  D: Mysterious teleportation\n",
      "Your answer (A/B/C/D): D\n",
      "Which natural element do you resonate with the most?\n",
      "  A: Fire\n",
      "  B: Water\n",
      "  C: Earth\n",
      "  D: Air\n",
      "Your answer (A/B/C/D): A\n",
      "If you could have a superpower, which would you choose?\n",
      "  A: Super strength\n",
      "  B: Telepathy\n",
      "  C: Shape-shifting\n",
      "  D: Time manipulation\n",
      "Your answer (A/B/C/D): D\n",
      "SETTINGS: Low Fantasy + Steampunk\n",
      "\n",
      "INTRODUCTION: Welcome, traveler, to a world where the mystical and the mechanical intertwine! In this unique realm, where low fantasy meets steampunk, prepare yourself for a grand adventure filled with magic, gears, and everything in between.\n",
      "\n",
      "WORLD DETAILS: Welcome to the enchanting land of Arconia, a place where the ordinary and the extraordinary coexist. Arconia is a realm where magic is scarce and mystical creatures are seldom seen, yet technology thrives with a steampunk twist. Here, the average person leads a life of wonder and curiosity, where they navigate a delicate balance between the whimsical and the industrial.\n",
      "\n",
      "CONFLICT: In the heart of Arconia lies a simmering conflict that has been brewing for centuries. The struggle for power and control over the precious magical resources that remain in this low fantasy world has ignited a fierce rivalry between the Arcanists, who seek to preserve and harness the dwindling magic, and the Technocrats, who believe that the wonders of technology can solve all problems. As a player, you will find yourself caught in the middle of this conflict, forced to make choices that will shape the destiny of Arconia.\n",
      "\n",
      "FUN FACTS:\n",
      "1. Clockwork Familiars: In Arconia, it is not uncommon for people to have mechanical companions in the form of clockwork animals. These whimsical creations not only serve as loyal companions but also assist with everyday tasks, from fetching the morning paper to brewing a perfect cup of tea.\n",
      "\n",
      "2. The Great Airship Races: Every year, Arconia hosts the Great Airship Races, a thrilling competition where skilled pilots navigate their magnificent steam-powered airships through treacherous skies. The races draw participants and spectators from all corners of the realm, creating an atmosphere of excitement and camaraderie.\n",
      "\n",
      "3. The Floating City of Aetheria: High above the clouds, tethered to the peaks of the tallest mountains, lies the magnificent floating city of Aetheria. This marvel of engineering and magic is a hub of innovation and knowledge, attracting scholars, inventors, and adventurers from far and wide. Exploring the wonders of Aetheria is an experience like no other, where the boundaries of possibility seem to fade away.\n",
      "\n",
      "So, my intrepid adventurer, get ready to embark on a journey through Arconia, where the realms of low fantasy and steampunk collide. The fate of this world lies in your hands, and the choices you make will shape its destiny. May your gears turn smoothly and your magic ignite with brilliance as you step into this extraordinary realm!\n"
     ]
    }
   ],
   "source": [
    "setting_details = story_creator.create_setting()\n",
    "print(setting_details)"
   ]
  },
  {
   "cell_type": "code",
   "execution_count": 3,
   "id": "5b264890",
   "metadata": {},
   "outputs": [
    {
     "name": "stdout",
     "output_type": "stream",
     "text": [
      "{\n",
      "  \"locations\": [\n",
      "    {\n",
      "      \"name\": \"Clockwork Emporium\",\n",
      "      \"description\": \"Nestled in the heart of Arconia's bustling capital, the Clockwork Emporium is a marvel of gears and steam. This sprawling marketplace is filled with stalls and shops selling a variety of clockwork contraptions, from tiny automatons to grand mechanical wonders. The air is filled with the sound of whirring gears and the hiss of steam, creating an atmosphere of excitement and curiosity.\",\n",
      "      \"importance\": \"The Clockwork Emporium is the go-to place for adventurers seeking mechanical companions or gear-enhanced weaponry. It is also a hub of innovation, where inventors and tinkerers gather to showcase their latest creations.\"\n",
      "    },\n",
      "    {\n",
      "      \"name\": \"The Mystic Grove\",\n",
      "      \"description\": \"Hidden deep within the ancient forests of Arconia, the Mystic Grove is a place of serene beauty and natural magic. Here, the air is thick with the scent of moss and wildflowers, and the trees whisper secrets of forgotten spells. Soft rays of sunlight filter through the canopy, creating a mystical glow that dances on the forest floor.\",\n",
      "      \"importance\": \"The Mystic Grove is a sacred site where rare magical herbs and ingredients can be found. It is also rumored to be a gateway to other realms, attracting seekers of mystical knowledge and those who wish to commune with nature.\"\n",
      "    },\n",
      "    {\n",
      "      \"name\": \"Steamhaven\",\n",
      "      \"description\": \"Perched on the edge of a vast volcanic caldera, Steamhaven is a city built on the power of steam. Towering smokestacks belch clouds of steam into the sky, while the streets are lined with hissing pipes and clanking machinery. The air is thick with the scent of coal and the rhythmic thumping of steam engines reverberates through the city.\",\n",
      "      \"importance\": \"Steamhaven is a hub of technological innovation, where engineers and inventors push the boundaries of steam-powered machinery. It is also home to the prestigious Steamhaven Academy, where aspiring engineers and inventors come to learn their craft.\"\n",
      "    },\n",
      "    {\n",
      "      \"name\": \"The Enchanted Forge\",\n",
      "      \"description\": \"Nestled deep within the heart of the Iron Mountains, the Enchanted Forge is a place of raw elemental power. Molten lava flows through channels carved into the rock, casting an eerie red glow on the cavern walls. The air crackles with electricity, and the sound of hammers striking anvils reverberates through the forge.\",\n",
      "      \"importance\": \"The Enchanted Forge is where master blacksmiths and artificers gather to create legendary weapons and armor infused with elemental magic. Adventurers seeking powerful enchanted gear often make a pilgrimage to the Enchanted Forge in search of their ultimate weapon.\"\n",
      "    },\n",
      "    {\n",
      "      \"name\": \"The Elysian Gardens\",\n",
      "      \"description\": \"A verdant oasis amidst the sprawling desert, the Elysian Gardens is a testament to the power of magic in a world where it is scarce. Towering palm trees provide shade from the scorching sun, while vibrant flowers bloom in a riot of colors. The air is filled with the sweet scent of jasmine, and the sound of trickling water creates a soothing melody.\",\n",
      "      \"importance\": \"The Elysian Gardens is a place of healing and rejuvenation. Its magical waters possess remarkable restorative properties, and those who bathe in them are said to be granted temporary powers and blessings. It is a sought-after destination for those in need of physical or spiritual healing.\"\n",
      "    },\n",
      "    {\n",
      "      \"name\": \"The Gilded Library\",\n",
      "      \"description\": \"Nestled within the ancient city of Aetheria, the Gilded Library is a treasure trove of knowledge and wisdom. Its towering shelves are filled with countless books, scrolls, and artifacts, each containing secrets waiting to be discovered. Sunlight filters through stained glass windows, casting a kaleidoscope of colors on the polished marble floors.\",\n",
      "      \"importance\": \"The Gilded Library is a haven for scholars and researchers, attracting those who seek to unravel the mysteries of the world. It is also rumored to house a collection of forbidden tomes and ancient artifacts, drawing the attention of adventurers and treasure hunters.\"\n",
      "    }\n",
      "  ]\n",
      "}\n"
     ]
    }
   ],
   "source": [
    "locations_of_interest = story_creator.get_locations()\n",
    "\n",
    "print(locations_of_interest)"
   ]
  },
  {
   "cell_type": "code",
   "execution_count": 4,
   "id": "ee37825f",
   "metadata": {
    "scrolled": true
   },
   "outputs": [
    {
     "name": "stdout",
     "output_type": "stream",
     "text": [
      "What are your preferred pronouns?\n",
      "A: She/her\n",
      "B: He/him\n",
      "C: They/them\n",
      "Your answer (A/B/C): C\n",
      "\n",
      "Of the following races, which would you like your character to be?\n",
      "A: Clockwork Gnomes - Tiny and ingenious, Clockwork Gnomes are master inventors and tinkerers, with a deep connection to machinery and technology.\n",
      "B: Arcane Elves - Elegant and mysterious, Arcane Elves are skilled in the arts of magic, harnessing the dwindling arcane energies of Arconia.\n",
      "C: Steamborn Dwarves - Resilient and sturdy, Steamborn Dwarves are renowned for their craftsmanship and ability to harness the power of steam.\n",
      "D: Beastkin Shifters - Wild and adaptable, Beastkin Shifters are able to transform into animal forms, embodying the primal forces of nature.\n",
      "Please enter your choice (A, B, C, D): D\n",
      "\n",
      "Of the following starting classes, which would you like your character to be?\n",
      "A: Arcane Tinkerer - Master of both magic and machinery, the Arcane Tinkerer combines their natural Beastkin Shifter abilities with their knowledge of arcane arts to create powerful and innovative devices.\n",
      "B: Clockwork Hunter - With their innate connection to nature and their affinity for clockwork mechanisms, the Clockwork Hunter uses their Beastkin Shifter abilities to hunt down dangerous creatures while relying on their trusty clockwork companions for support.\n",
      "C: Steamblade Sentinel - As a Beastkin Shifter, the Steamblade Sentinel harnesses their primal instincts to become a fierce warrior, combining their animalistic abilities with the power of steam-driven weaponry.\n",
      "D: Mystic Mechanist - Merging the mystical with the mechanical, the Mystic Mechanist uses their Beastkin Shifter powers to tap into the hidden energies of the world, channeling them through their intricate clockwork contraptions.\n",
      "Please enter your choice (A, B, C, D): D\n",
      "\n",
      "Of the following backgrounds, which would you like your character to come from?\n",
      "A: Forest Guardian - Raised deep within the mystical forests of Arconia, you were chosen by the spirits of nature to become a protector of the wild.\n",
      "B: Arcane Engineer - Born into a family of renowned inventors and engineers, you have spent your life blending magic and technology to create marvelous contraptions.\n",
      "C: Rogue Tinkerer - Growing up in the shadows of the bustling cities, you honed your mechanical skills to become a skilled thief and master of gadgets.\n",
      "D: Wandering Scholar - As a curious scholar, you have traveled far and wide in search of knowledge, delving into ancient tomes and unraveling the secrets of the world.\n",
      "Please enter your choice (A, B, C, D): C\n",
      "\n",
      "What is your name?\n",
      "(Maximum 20 characters): Bgathar\n",
      "[{'Trait': 'Gender', 'Description': 'C: They/Them'}, {'Trait': 'Player race', 'Description': 'Beastkin Shifters - Wild and adaptable, Beastkin Shifters are able to transform into animal forms, embodying the primal forces of nature.'}, {'Trait': 'Player starting class', 'Description': 'Mystic Mechanist - Merging the mystical with the mechanical, the Mystic Mechanist uses their Beastkin Shifter powers to tap into the hidden energies of the world, channeling them through their intricate clockwork contraptions.'}, {'Trait': 'Player background', 'Description': 'Rogue Tinkerer - Growing up in the shadows of the bustling cities, you honed your mechanical skills to become a skilled thief and master of gadgets.'}, {'Trait': 'Player name', 'Description': 'Bgathar'}]\n"
     ]
    }
   ],
   "source": [
    "story_creator.get_player_info()\n",
    "\n",
    "print(story_creator.player_character)"
   ]
  },
  {
   "cell_type": "code",
   "execution_count": 5,
   "id": "4bd7a1e5",
   "metadata": {},
   "outputs": [
    {
     "name": "stdout",
     "output_type": "stream",
     "text": [
      "{\n",
      "  \"storyBeginning\": \"You, Bgathar, a Beastkin Shifter Mystic Mechanist with a background as a Rogue Tinkerer, find yourself in the bustling Clockwork Emporium of Arconia's capital. As a skilled thief and master of gadgets, you have been honing your mechanical skills and seeking out the latest clockwork contraptions to enhance your powers. Your goal is to find a rare and powerful artifact rumored to be hidden within the Emporium, which could grant you the ability to tap into the hidden energies of the world.\",\n",
      "  \"storyEnding\": \"If you are successful in your adventure, you will not only uncover the ancient artifact within the Clockwork Emporium but also learn to harness its power. With this newfound ability, you will become a legendary figure in Arconia, revered by both the Arcanists and the Technocrats. Your status will be elevated, and you will have the power to shape the destiny of this realm.\",\n",
      "  \"storyArc\": \"As you delve deeper into the Clockwork Emporium, you will encounter various challenges and obstacles that test your skills as a Rogue Tinkerer and a Mystic Mechanist. Along the way, you will uncover secrets about the conflict between the Arcanists and the Technocrats, and the true nature of the ancient artifact. Ultimately, you will need to make a choice that will determine the fate of Arconia.\",\n",
      "  \"storyMainConflict\": \"The main conflict in this story revolves around the struggle for power and control over the remaining magical resources in Arconia. The Arcanists seek to preserve and harness the dwindling magic, while the Technocrats believe that technology can solve all problems. As a player, you will find yourself caught in the middle of this conflict, forced to make choices that will shape the destiny of Arconia.\",\n",
      "  \"mainStoryBeats\": [\n",
      "    {\n",
      "      \"storyBeatNumber\": 1,\n",
      "      \"description\": \"As you explore the Clockwork Emporium, you stumble upon a hidden chamber filled with ancient artifacts and arcane machinery. There, you encounter a mysterious figure who reveals the existence of the artifact you seek, but only if you can prove your worth by completing a dangerous task.\",\n",
      "      \"primaryLocation\": \"Clockwork Emporium\"\n",
      "    },\n",
      "    {\n",
      "      \"storyBeatNumber\": 2,\n",
      "      \"description\": \"In order to complete the task, you must venture into the depths of the Mystic Grove, where you face treacherous creatures and solve intricate puzzles. Along the way, you discover clues about the true nature of the artifact and the conflict between the Arcanists and the Technocrats.\",\n",
      "      \"primaryLocation\": \"Mystic Grove\"\n",
      "    },\n",
      "    {\n",
      "      \"storyBeatNumber\": 3,\n",
      "      \"description\": \"Having successfully retrieved the artifact, you return to the Clockwork Emporium, only to find it under attack by a group of Technocrat agents. In a thrilling battle, you must defend the Emporium and its inhabitants, using your mechanical prowess and Beastkin Shifter powers to overcome the enemy.\",\n",
      "      \"primaryLocation\": \"Clockwork Emporium\"\n",
      "    }\n",
      "  ]\n",
      "}\n"
     ]
    }
   ],
   "source": [
    "story_beats = story_creator.get_story_beats()\n",
    "print(story_beats)"
   ]
  },
  {
   "cell_type": "code",
   "execution_count": null,
   "id": "2dca4b42",
   "metadata": {},
   "outputs": [],
   "source": [
    "story_creator.save_game_data()"
   ]
  },
  {
   "cell_type": "code",
   "execution_count": null,
   "id": "86783519",
   "metadata": {},
   "outputs": [],
   "source": []
  }
 ],
 "metadata": {
  "kernelspec": {
   "display_name": "Python 3 (ipykernel)",
   "language": "python",
   "name": "python3"
  },
  "language_info": {
   "codemirror_mode": {
    "name": "ipython",
    "version": 3
   },
   "file_extension": ".py",
   "mimetype": "text/x-python",
   "name": "python",
   "nbconvert_exporter": "python",
   "pygments_lexer": "ipython3",
   "version": "3.9.12"
  }
 },
 "nbformat": 4,
 "nbformat_minor": 5
}
