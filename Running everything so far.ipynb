{
 "cells": [
  {
   "cell_type": "code",
   "execution_count": null,
   "id": "88b224fe",
   "metadata": {},
   "outputs": [],
   "source": [
    "# import tiktoken\n",
    "\n",
    "# def num_tokens_from_string(string: str, encoding_name: str) -> int:\n",
    "#     encoding = tiktoken.encoding_for_model(encoding_name)\n",
    "#     num_tokens = len(encoding.encode(string))\n",
    "#     return num_tokens\n",
    "\n",
    "# print(num_tokens_from_string(class_prompt_full, \"gpt-3.5-turbo\"))"
   ]
  },
  {
   "cell_type": "code",
   "execution_count": 1,
   "id": "8df8a5ee",
   "metadata": {},
   "outputs": [],
   "source": [
    "from setting_up_story import GenerateStory\n",
    "\n",
    "# Create an instance of the SetupSetting class\n",
    "story_creator = GenerateStory()"
   ]
  },
  {
   "cell_type": "code",
   "execution_count": 8,
   "id": "6c6f6415",
   "metadata": {},
   "outputs": [
    {
     "name": "stdout",
     "output_type": "stream",
     "text": [
      "contemplative and high-concept\n"
     ]
    }
   ],
   "source": [
    "print(story_creator.selected_tone)"
   ]
  },
  {
   "cell_type": "code",
   "execution_count": 2,
   "id": "a4c61896",
   "metadata": {
    "scrolled": true
   },
   "outputs": [
    {
     "name": "stdout",
     "output_type": "stream",
     "text": [
      "How would you like to generate your new world?\n",
      "A. Take a personality quiz generate a setting\n",
      "B. I'll chose the setting for myself\n",
      "Your answer (A/B): B\n",
      "\n",
      "\n",
      "Okay! Let's get started! You will be selecting two of these setting categories to create your world. You will then select a specific setting subcategory within those two.\n",
      "\n",
      "\n",
      "Please select your first setting category from the following options:\n",
      "\n",
      "1. Fantasy\n",
      "2. Sci-Fi\n",
      "3. Mythology\n",
      "4. Punk\n",
      "5. Horror\n",
      "6. Stylish\n",
      "7. Cinematic\n",
      "Choose a number between 1 and 7: 2\n",
      "\n",
      "Now select a second category from the following options:\n",
      "\n",
      "1. Fantasy\n",
      "2. Mythology\n",
      "3. Punk\n",
      "4. Horror\n",
      "5. Stylish\n",
      "6. Cinematic\n",
      "Choose a number between 1 and 6: 6\n",
      "\n",
      "Please select from the following Sci-Fi subcategories:\n",
      "\n",
      "1. Space opera\n",
      "2. Hard sci-fi\n",
      "3. Colonizing alien worlds\n",
      "Choose a number between 1 and 3: 1\n",
      "\n",
      "Please select from the following Cinematic subcategories:\n",
      "\n",
      "1. Old West\n",
      "2. Pirate\n",
      "3. Post-apocalyptic\n",
      "4. Superhero\n",
      "5. Kung fu\n",
      "Choose a number between 1 and 5: 4\n",
      "\n",
      "I prefer the tone of role-playing games to be:\n",
      "1. light and playful\n",
      "2. dark and serious\n",
      "3. contemplative and high-concept\n",
      "4. balanced between light, serious, and contemplative\n",
      "5. kid-friendly\n",
      "Choose a number between 1 and 5: 2\n",
      "Welcome to Cosmic City, a sprawling metropolis nestled among the stars. In this world, advanced technology and extraordinary abilities are the norm. Prepare to embark on a thrilling journey where heroes and villains clash in epic battles, both on the ground and in the vastness of space.\n",
      "{'SETTINGS': [{'Category': 'Sci-Fi', 'Subcategory': 'Space opera'}, {'Category': 'Cinematic', 'Subcategory': 'Superhero'}], 'WORLD_NAME': 'Cosmic City', 'WORLD_DETAILS': 'Life in Cosmic City is a unique blend of futuristic sci-fi and larger-than-life superheroics. The cityscape is a dazzling mix of gleaming skyscrapers and floating platforms, bustling with people from all walks of life. Advanced gadgets and superhuman abilities are integrated into everyday routines, making even the most mundane tasks extraordinary.', 'CONFLICT': \"The primary conflict in Cosmic City revolves around the struggle for power and justice. Super-powered individuals, both heroes and villains, fight to establish their dominance and protect or exploit the innocent. The city's various factions, each with their own agenda, vie for control over resources, technology, and the fate of the city itself.\", 'FUN_FACTS': ['Cosmic City is powered by a colossal energy source known as the Stellar Core, which grants incredible abilities to those who can harness its power.', \"The city's mayor, known as the Cosmic Sentinel, is a superhero who leads a team of powerful defenders known as the Star Guard.\", 'In Cosmic City, you can find unique establishments like the Alien Bazaar, where extraterrestrial beings sell exotic goods and share tales from distant galaxies.']}\n"
     ]
    }
   ],
   "source": [
    "player_intro, setting_details = story_creator.create_setting()\n",
    "print(player_intro)\n",
    "print(setting_details)"
   ]
  },
  {
   "cell_type": "code",
   "execution_count": 4,
   "id": "099f9020",
   "metadata": {},
   "outputs": [
    {
     "name": "stdout",
     "output_type": "stream",
     "text": [
      "How would you like to generate your new world?\n",
      "A. Take a personality quiz generate a setting\n",
      "B. I'll chose the setting for myself\n",
      "Your answer (A/B): B\n",
      "\n",
      "\n",
      "Okay! Let's get started! You will be selecting two of these setting categories to create your world. You will then select a specific setting subcategory within those two.\n",
      "\n",
      "\n",
      "Please select your first setting category from the following options:\n",
      "\n",
      "1. Fantasy\n",
      "2. Sci-Fi\n",
      "3. Mythology\n",
      "4. Punk\n",
      "5. Horror\n",
      "6. Stylish\n",
      "7. Cinematic\n",
      "Choose a number between 1 and 7: 2\n",
      "\n",
      "Now select a second category from the following options:\n",
      "\n",
      "1. Fantasy\n",
      "2. Mythology\n",
      "3. Punk\n",
      "4. Horror\n",
      "5. Stylish\n",
      "6. Cinematic\n",
      "Choose a number between 1 and 6: 6\n",
      "\n",
      "Please select from the following Sci-Fi subcategories:\n",
      "\n",
      "1. Space opera\n",
      "2. Hard sci-fi\n",
      "3. Colonizing alien worlds\n",
      "Choose a number between 1 and 3: 1\n",
      "\n",
      "Please select from the following Cinematic subcategories:\n",
      "\n",
      "1. Old West\n",
      "2. Pirate\n",
      "3. Post-apocalyptic\n",
      "4. Superhero\n",
      "5. Kung fu\n",
      "Choose a number between 1 and 5: 4\n",
      "\n",
      "I prefer the tone of role-playing games to be:\n",
      "1. light and playful\n",
      "2. dark and serious\n",
      "3. contemplative and high-concept\n",
      "4. balanced between light, serious, and contemplative\n",
      "5. kid-friendly\n",
      "Choose a number between 1 and 5: 1\n",
      "Welcome to Cosmic City, a bustling metropolis located on the edge of the known universe! Here, you'll find a blend of futuristic technology and extraordinary abilities, creating a unique and exciting world for your heroic adventures!\n",
      "{'SETTINGS': [{'Category': 'Sci-Fi', 'Subcategory': 'Space opera'}, {'Category': 'Cinematic', 'Subcategory': 'Superhero'}], 'WORLD_NAME': 'Cosmic City', 'WORLD_DETAILS': 'Life in Cosmic City is a vibrant mix of cosmic wonders and everyday struggles. The city itself floats amidst the stars, its towering skyscrapers reaching for the heavens. Advanced technology permeates every aspect of life, from transportation to communication, making the impossible seem routine. Meanwhile, the inhabitants of Cosmic City are as diverse as the stars themselves, each with their own extraordinary abilities and stories.', 'CONFLICT': \"The predominant conflict in Cosmic City is the constant struggle between heroes and villains. Superpowered individuals clash in epic battles across the city, their actions shaping the fate of Cosmic City and its inhabitants. The heroes strive to protect the innocent and uphold justice, while the villains seek to sow chaos and further their nefarious plans. As a player, you'll find yourself at the heart of this conflict, choosing which side to align with and facing the consequences of your choices.\", 'FUN_FACTS': [\"In Cosmic City, the local coffee shops serve a special blend called 'Stellar Brew,' rumored to grant temporary superhuman abilities to those who drink it!\", \"The city's transportation system includes gravity-defying hovercars and teleportation stations, making travel a breeze for both heroes and civilians.\", \"Cosmic City is home to the famous superhero team, 'The Cosmic Guardians,' who protect the city from intergalactic threats. Rumor has it that they're always looking for new recruits!\"]}\n"
     ]
    }
   ],
   "source": [
    "player_intro, setting_details = story_creator.create_setting()\n",
    "print(player_intro)\n",
    "print(setting_details)"
   ]
  },
  {
   "cell_type": "code",
   "execution_count": 7,
   "id": "0498672d",
   "metadata": {},
   "outputs": [
    {
     "name": "stdout",
     "output_type": "stream",
     "text": [
      "How would you like to generate your new world?\n",
      "A. Take a personality quiz generate a setting\n",
      "B. I'll chose the setting for myself\n",
      "Your answer (A/B): B\n",
      "\n",
      "\n",
      "Okay! Let's get started! You will be selecting two of these setting categories to create your world. You will then select a specific setting subcategory within those two.\n",
      "\n",
      "\n",
      "Please select your first setting category from the following options:\n",
      "\n",
      "1. Fantasy\n",
      "2. Sci-Fi\n",
      "3. Mythology\n",
      "4. Punk\n",
      "5. Horror\n",
      "6. Stylish\n",
      "7. Cinematic\n",
      "Choose a number between 1 and 7: 2\n",
      "\n",
      "Now select a second category from the following options:\n",
      "\n",
      "1. Fantasy\n",
      "2. Mythology\n",
      "3. Punk\n",
      "4. Horror\n",
      "5. Stylish\n",
      "6. Cinematic\n",
      "Choose a number between 1 and 6: 6\n",
      "\n",
      "Please select from the following Sci-Fi subcategories:\n",
      "\n",
      "1. Space opera\n",
      "2. Hard sci-fi\n",
      "3. Colonizing alien worlds\n",
      "Choose a number between 1 and 3: 1\n",
      "\n",
      "Please select from the following Cinematic subcategories:\n",
      "\n",
      "1. Old West\n",
      "2. Pirate\n",
      "3. Post-apocalyptic\n",
      "4. Superhero\n",
      "5. Kung fu\n",
      "Choose a number between 1 and 5: 4\n",
      "\n",
      "I prefer the tone of role-playing games to be:\n",
      "1. light and playful\n",
      "2. dark and serious\n",
      "3. contemplative and high-concept\n",
      "4. balanced between light, serious, and contemplative\n",
      "5. kid-friendly\n",
      "Choose a number between 1 and 5: 3\n",
      "Welcome to the sprawling universe of Galactic Heroes, where the stars are the stage and the heroes are larger than life. In this world, science fiction meets the fantastical as super-powered beings soar through the cosmos, battling evil and saving civilizations.\n",
      "{'SETTINGS': [{'Category': 'Sci-Fi', 'Subcategory': 'Space opera'}, {'Category': 'Cinematic', 'Subcategory': 'Superhero'}], 'WORLD_NAME': 'Galactic Heroes', 'WORLD_DETAILS': 'Life in Galactic Heroes is a blend of advanced technology, cosmic wonders, and the extraordinary abilities of its inhabitants. From bustling spaceports to exotic alien planets, the galaxy is a tapestry of diverse cultures, each with their own unique customs and traditions. The average person lives in awe of the extraordinary feats performed by the heroes who protect them, while also navigating the everyday challenges of living in a vast, interconnected universe.', 'CONFLICT': 'The predominant conflict in Galactic Heroes is the constant struggle between good and evil, as super-powered villains threaten the stability and peace of the galaxy. These villains often possess incredible powers and nefarious schemes, requiring the heroes to band together and use their own extraordinary abilities to protect innocent lives and maintain the delicate balance of power.', 'FUN_FACTS': ['The Galactic Heroes universe is home to countless alien species, each with their own distinct physiology and culture. From telepathic cephalopods to energy-based beings, the diversity of lifeforms is truly staggering.', 'The heroes of Galactic Heroes often find themselves embroiled in interstellar politics, as different factions vie for control over valuable resources and strategic locations. Balancing their responsibilities as defenders of justice with the complexities of galactic diplomacy is no easy task.', 'In Galactic Heroes, not all heroes wear capes. Some possess unique abilities that defy traditional notions of superpowers, such as the ability to manipulate time or control gravity. The possibilities for heroism are as vast as the cosmos itself.']}\n"
     ]
    }
   ],
   "source": [
    "player_intro, setting_details = story_creator.create_setting()\n",
    "print(player_intro)\n",
    "print(setting_details)"
   ]
  },
  {
   "cell_type": "code",
   "execution_count": null,
   "id": "5b264890",
   "metadata": {},
   "outputs": [],
   "source": [
    "locations_of_interest = story_creator.get_locations()\n",
    "\n",
    "print(locations_of_interest)"
   ]
  },
  {
   "cell_type": "code",
   "execution_count": null,
   "id": "ee37825f",
   "metadata": {
    "scrolled": true
   },
   "outputs": [],
   "source": [
    "story_creator.get_player_info()\n",
    "\n",
    "print(story_creator.player_character)"
   ]
  },
  {
   "cell_type": "code",
   "execution_count": null,
   "id": "4bd7a1e5",
   "metadata": {},
   "outputs": [],
   "source": [
    "story_beats = story_creator.get_story_beats()\n",
    "print(story_beats)"
   ]
  },
  {
   "cell_type": "code",
   "execution_count": null,
   "id": "2dca4b42",
   "metadata": {},
   "outputs": [],
   "source": [
    "story_creator.save_game_data()"
   ]
  },
  {
   "cell_type": "code",
   "execution_count": null,
   "id": "26bec6f9",
   "metadata": {},
   "outputs": [],
   "source": []
  }
 ],
 "metadata": {
  "kernelspec": {
   "display_name": "Python 3 (ipykernel)",
   "language": "python",
   "name": "python3"
  },
  "language_info": {
   "codemirror_mode": {
    "name": "ipython",
    "version": 3
   },
   "file_extension": ".py",
   "mimetype": "text/x-python",
   "name": "python",
   "nbconvert_exporter": "python",
   "pygments_lexer": "ipython3",
   "version": "3.9.12"
  }
 },
 "nbformat": 4,
 "nbformat_minor": 5
}
