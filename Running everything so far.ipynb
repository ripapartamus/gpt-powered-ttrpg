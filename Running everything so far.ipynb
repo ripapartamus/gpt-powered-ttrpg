{
 "cells": [
  {
   "cell_type": "code",
   "execution_count": null,
   "id": "88b224fe",
   "metadata": {},
   "outputs": [],
   "source": [
    "# import tiktoken\n",
    "\n",
    "# def num_tokens_from_string(string: str, encoding_name: str) -> int:\n",
    "#     encoding = tiktoken.encoding_for_model(encoding_name)\n",
    "#     num_tokens = len(encoding.encode(string))\n",
    "#     return num_tokens\n",
    "\n",
    "# print(num_tokens_from_string(class_prompt_full, \"gpt-3.5-turbo\"))"
   ]
  },
  {
   "cell_type": "code",
   "execution_count": null,
   "id": "8df8a5ee",
   "metadata": {},
   "outputs": [],
   "source": [
    "from main import TTRPGPT\n",
    "\n",
    "# Create an instance of the SetupSetting class\n",
    "game = TTRPGPT()"
   ]
  },
  {
   "cell_type": "code",
   "execution_count": null,
   "id": "5eb14816",
   "metadata": {
    "scrolled": false
   },
   "outputs": [],
   "source": [
    "game.run_game()"
   ]
  },
  {
   "cell_type": "code",
   "execution_count": null,
   "id": "483f0343",
   "metadata": {},
   "outputs": [],
   "source": [
    "# for debugging purposes, you can take a look at all the info generated so far"
   ]
  },
  {
   "cell_type": "code",
   "execution_count": null,
   "id": "ce1c344e",
   "metadata": {},
   "outputs": [],
   "source": [
    "game.selected_tone"
   ]
  },
  {
   "cell_type": "code",
   "execution_count": null,
   "id": "184dc0f3",
   "metadata": {},
   "outputs": [],
   "source": [
    "game.setting_details"
   ]
  },
  {
   "cell_type": "code",
   "execution_count": null,
   "id": "a3075726",
   "metadata": {},
   "outputs": [],
   "source": [
    "game.locations_of_interest"
   ]
  },
  {
   "cell_type": "code",
   "execution_count": null,
   "id": "31fd0549",
   "metadata": {
    "scrolled": true
   },
   "outputs": [],
   "source": [
    "game.player_character"
   ]
  },
  {
   "cell_type": "code",
   "execution_count": null,
   "id": "4e2c50fa",
   "metadata": {},
   "outputs": [],
   "source": [
    "game.story_beats"
   ]
  },
  {
   "cell_type": "code",
   "execution_count": null,
   "id": "37b13656",
   "metadata": {},
   "outputs": [],
   "source": []
  }
 ],
 "metadata": {
  "kernelspec": {
   "display_name": "Python 3 (ipykernel)",
   "language": "python",
   "name": "python3"
  },
  "language_info": {
   "codemirror_mode": {
    "name": "ipython",
    "version": 3
   },
   "file_extension": ".py",
   "mimetype": "text/x-python",
   "name": "python",
   "nbconvert_exporter": "python",
   "pygments_lexer": "ipython3",
   "version": "3.9.12"
  }
 },
 "nbformat": 4,
 "nbformat_minor": 5
}
