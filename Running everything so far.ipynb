{
 "cells": [
  {
   "cell_type": "code",
   "execution_count": null,
   "id": "88b224fe",
   "metadata": {},
   "outputs": [],
   "source": [
    "# import tiktoken\n",
    "\n",
    "# def num_tokens_from_string(string: str, encoding_name: str) -> int:\n",
    "#     encoding = tiktoken.encoding_for_model(encoding_name)\n",
    "#     num_tokens = len(encoding.encode(string))\n",
    "#     return num_tokens\n",
    "\n",
    "# print(num_tokens_from_string(class_prompt_full, \"gpt-3.5-turbo\"))"
   ]
  },
  {
   "cell_type": "code",
   "execution_count": 1,
   "id": "8df8a5ee",
   "metadata": {},
   "outputs": [],
   "source": [
    "from setting_up_story import GenerateStory\n",
    "\n",
    "# Create an instance of the SetupSetting class\n",
    "story_creator = GenerateStory()"
   ]
  },
  {
   "cell_type": "code",
   "execution_count": 2,
   "id": "a4c61896",
   "metadata": {},
   "outputs": [
    {
     "name": "stdout",
     "output_type": "stream",
     "text": [
      "Welcome! How would you like to generate your new world?\n",
      "A. Take a personality quiz generate a setting\n",
      "B. I'll chose the setting for myself\n",
      "Your answer (A/B): B\n",
      "\n",
      "\n",
      "Okay! Let's get started! You will be selecting two of these setting categories to create your world. You will then select a specific setting subcategory within those two.\n",
      "\n",
      "\n",
      "Please select your first setting category from the following options:\n",
      "\n",
      "1. Fantasy\n",
      "2. Sci-Fi\n",
      "3. Mythology\n",
      "4. Punk\n",
      "5. Horror\n",
      "6. Stylish\n",
      "7. Cinematic\n",
      "Choose a number between 1 and 7: 3\n",
      "\n",
      "Now select a second category from the following options:\n",
      "\n",
      "1. Fantasy\n",
      "2. Sci-Fi\n",
      "3. Punk\n",
      "4. Horror\n",
      "5. Stylish\n",
      "6. Cinematic\n",
      "Choose a number between 1 and 6: 7\n",
      "Please enter a number between 1 and 6.\n",
      "Choose a number between 1 and 6: 6\n",
      "\n",
      "Please select from the following Mythology subcategories:\n",
      "\n",
      "1. Egyptian mythology\n",
      "2. Aztec mythology\n",
      "3. Norse mythology\n",
      "4. Greco-Roman mythology\n",
      "5. Celtic mythology\n",
      "6. Japanese mythology\n",
      "7. Polynesian mythology\n",
      "8. Judeo-Christian mythology\n",
      "Choose a number between 1 and 8: 2\n",
      "\n",
      "Please select from the following Cinematic subcategories:\n",
      "\n",
      "1. Old West\n",
      "2. Pirate\n",
      "3. Post-apocalyptic\n",
      "4. Superhero\n",
      "5. Kung fu\n",
      "Choose a number between 1 and 5: 1\n",
      "Welcome to Aztec West, a land where ancient mythology collides with the untamed frontier! Here, the spirits of the Aztec pantheon walk alongside cowboys, and the legends of the past intertwine with the legends of the Wild West. Get ready for a wild ride through a world that's as dangerous as it is mystical!\n",
      "{'SETTINGS': [{'Category': 'Mythology', 'Subcategory': 'Aztec mythology'}, {'Category': 'Cinematic', 'Subcategory': 'Old West'}], 'WORLD_NAME': 'Aztec West', 'WORLD_DETAILS': \"In Aztec West, life is a unique blend of ancient traditions and rugged frontier living. You'll find bustling towns with saloons and general stores, but also ancient temples where offerings are made to appease the gods. The people here have learned to adapt to the whims of both nature and deities, finding a delicate balance between their Aztec heritage and the challenges of the Wild West.\", 'CONFLICT': 'The predominant conflict in Aztec West centers around the clash of cultures and the struggle for power. The Aztec gods, once worshiped in solitude, now find themselves sharing the attention with the ever-expanding influence of the Old West. This clash often leads to tensions, as cowboys and natives vie for control over land, resources, and the very soul of Aztec West.', 'FUN_FACTS': ['The most popular sport in Aztec West is a wild variation of rodeo, where cowboys ride not only bulls and horses but also mythical creatures like the feathered serpent Quetzalcoatl!', 'One of the most sought-after treasures in Aztec West is the legendary Golden Six-Shooter, said to have been forged by the gods themselves. Many adventurers have set out to find it, but none have succeeded so far.', \"Aztec West is home to a unique breed of horses known as 'Spirit Steeds.' These magnificent creatures possess supernatural speed and endurance, making them highly coveted by both cowboys and Aztec warriors.\"]}\n"
     ]
    }
   ],
   "source": [
    "player_intro, setting_details = story_creator.create_setting()\n",
    "print(player_intro)\n",
    "print(setting_details)"
   ]
  },
  {
   "cell_type": "code",
   "execution_count": 3,
   "id": "5b264890",
   "metadata": {},
   "outputs": [
    {
     "name": "stdout",
     "output_type": "stream",
     "text": [
      "{\n",
      "  \"locations\": [\n",
      "    {\n",
      "      \"name\": \"Temple of the Feathered Serpent\",\n",
      "      \"description\": \"This ancient temple, hidden deep in the heart of Aztec West, is a sacred site where offerings are made to the gods. The walls are adorned with intricate carvings of serpents and feathers, and the air is thick with the smell of copal incense. It is said that those who make a worthy offering may receive a blessing from the feathered serpent Quetzalcoatl.\",\n",
      "      \"importance\": \"The Temple of the Feathered Serpent is a focal point of Aztec culture and religion. It represents the ancient traditions and beliefs of the Aztec people, and serves as a reminder of their rich history in the face of the encroaching Old West.\"\n",
      "    },\n",
      "    {\n",
      "      \"name\": \"Dusty Gulch\",\n",
      "      \"description\": \"Dusty Gulch is a small frontier town with wooden buildings, a saloon, and a general store. The streets are dusty and the atmosphere is rowdy, with cowboys and locals mingling at all hours of the day. It's a place where people come to relax, gamble, and share stories of their adventures.\",\n",
      "      \"importance\": \"Dusty Gulch is a hub of activity in Aztec West. It serves as a meeting point for cowboys, travelers, and Aztec natives, creating a melting pot of cultures. It's also a place where conflicts can arise, as different groups vie for control and influence.\"\n",
      "    },\n",
      "    {\n",
      "      \"name\": \"Mystic Oasis\",\n",
      "      \"description\": \"Hidden deep within the desert, the Mystic Oasis is a lush and tranquil paradise. Tall palm trees provide shade, while a crystal-clear pool offers a refreshing respite from the scorching sun. It is said that the waters of the oasis possess magical properties, capable of healing wounds and granting visions.\",\n",
      "      \"importance\": \"The Mystic Oasis is a place of mystery and wonder in Aztec West. It is rumored to hold ancient secrets and hidden treasures, attracting adventurers and fortune seekers from far and wide. It also serves as a place of solace and reflection for those seeking guidance or a moment of peace.\"\n",
      "    },\n",
      "    {\n",
      "      \"name\": \"Canyon of Spirits\",\n",
      "      \"description\": \"The Canyon of Spirits is a breathtaking natural wonder, with towering cliffs and winding paths. It is believed to be a sacred place where the spirits of the ancestors reside. The wind whispers ancient tales as it rushes through the canyon, and the walls are adorned with colorful prayer flags.\",\n",
      "      \"importance\": \"The Canyon of Spirits is a place of spiritual significance in Aztec West. It is where the Aztec people go to honor their ancestors and seek guidance from the spirits. It also holds a certain allure for outsiders, who are drawn to its beauty and the legends that surround it.\"\n",
      "    },\n",
      "    {\n",
      "      \"name\": \"El Dorado Ranch\",\n",
      "      \"description\": \"El Dorado Ranch is a sprawling hacienda surrounded by golden fields of corn and agave plants. The ranch is known for its skilled vaqueros (cowboys) and their legendary horsemanship. Visitors can witness thrilling rodeo performances, ride spirited horses, and enjoy the warm hospitality of the ranch owners.\",\n",
      "      \"importance\": \"El Dorado Ranch showcases the fusion of Aztec and Western cultures in Aztec West. It is a place where traditional Aztec horsemanship meets cowboy ranching techniques. The ranch serves as a symbol of unity and cooperation between the two cultures, despite their differences.\"\n",
      "    },\n",
      "    {\n",
      "      \"name\": \"Ghost Rock Mines\",\n",
      "      \"description\": \"The Ghost Rock Mines are a network of tunnels and caverns deep within the mountains. The mines are rich with a mysterious glowing mineral known as ghost rock, which has various uses in both Aztec rituals and Western technology. The air is heavy with the smell of sulfur and the sound of pickaxes echoes through the tunnels.\",\n",
      "      \"importance\": \"The Ghost Rock Mines are a valuable resource in Aztec West, coveted by both Aztec natives and Western prospectors. The conflict over control of the mines often leads to clashes and tensions between the two cultures. The ghost rock itself holds a certain mystical allure, with rumors of its supernatural properties.\"\n",
      "    }\n",
      "  ]\n",
      "}\n"
     ]
    }
   ],
   "source": [
    "locations_of_interest = story_creator.get_locations()\n",
    "\n",
    "print(locations_of_interest)"
   ]
  },
  {
   "cell_type": "code",
   "execution_count": 5,
   "id": "ee37825f",
   "metadata": {
    "scrolled": true
   },
   "outputs": [
    {
     "name": "stdout",
     "output_type": "stream",
     "text": [
      "What are your preferred pronouns?\n",
      "A: She/her\n",
      "B: He/him\n",
      "C: They/them\n",
      "Your answer (A/B/C): A\n",
      "\n",
      "Of the following races, which would you like your character to be?\n",
      "A: Quetzalcoatlans - Quetzalcoatlans are descendants of the feathered serpent god Quetzalcoatl. They possess the ability to communicate with and ride mythical creatures, making them formidable riders and skilled in animal handling.\n",
      "B: Golden Six-Shooters - Golden Six-Shooters are a race of beings who have been blessed by the gods with incredible marksmanship and the ability to channel divine energy through their revolvers.\n",
      "C: Spirit Steeds - Spirit Steeds are sentient horses with supernatural speed and endurance. They have a deep connection to nature and can communicate telepathically with their riders.\n",
      "D: Aztec Outlaws - Aztec Outlaws are a rebellious group of individuals who have rejected both the traditions of the Aztecs and the laws of the Old West. They are skilled in stealth and sabotage, and have a knack for getting out of tight situations.\n",
      "Please enter your choice (A, B, C, D): A\n",
      "\n",
      "Of the following starting classes, which would you like your character to be?\n",
      "A: Beast Tamer - Harness the power of your Quetzalcoatlan heritage to tame and command mythical creatures, using them as loyal companions and fierce allies in battle.\n",
      "B: Temple Guardian - As a Quetzalcoatlan, you have a deep connection to the ancient temples of Aztec West. Choose to be a Temple Guardian and defend these sacred sites with your life, using your knowledge of ancient rituals and divine powers to protect them from intruders.\n",
      "C: Spirit Rider - Embrace your Quetzalcoatlan heritage and become a Spirit Rider, mastering the art of riding mythical creatures. With your supernatural bond with these creatures, you can navigate the treacherous terrain of Aztec West with unmatched speed and agility.\n",
      "D: Mystic Shaman - Tap into the mystical energies of the Aztec gods as a Quetzalcoatlan Mystic Shaman. Wield powerful spells and ancient rituals to heal allies, summon elemental forces, and cast devastating curses upon your enemies.\n",
      "Please enter your choice (A, B, C, D): B\n",
      "\n",
      "Of the following backgrounds, which would you like your character to come from?\n",
      "A: The Nomadic Herder - Raised on the vast plains of Aztec West, you grew up tending to the mythical creatures that roam the land, honing your skills as a rider and animal handler.\n",
      "B: The Temple Scholar - From a young age, you were immersed in the ancient rituals and teachings of the Aztec temples, learning the secrets of the gods and becoming a scholar of divine knowledge.\n",
      "C: The Outlaw's Apprentice - You were taken under the wing of a notorious outlaw, learning the ways of the Old West while navigating the treacherous world of bandits and gunslingers.\n",
      "D: The Native Rebel - Growing up in a Native American tribe, you witnessed the encroachment of the Old West on your ancestral lands, leading you to become a fierce advocate for your people's rights.\n",
      "Please enter your choice (A, B, C, D): A\n",
      "\n",
      "What is your name?\n",
      "(Maximum 20 characters): Xelcha\n",
      "[{'Trait': 'Gender', 'Description': 'A: She/Her'}, {'Trait': 'Player race', 'Description': 'Quetzalcoatlans - Quetzalcoatlans are descendants of the feathered serpent god Quetzalcoatl. They possess the ability to communicate with and ride mythical creatures, making them formidable riders and skilled in animal handling.'}, {'Trait': 'Player starting class', 'Description': 'Temple Guardian - As a Quetzalcoatlan, you have a deep connection to the ancient temples of Aztec West. Choose to be a Temple Guardian and defend these sacred sites with your life, using your knowledge of ancient rituals and divine powers to protect them from intruders.'}, {'Trait': 'Player background', 'Description': 'The Nomadic Herder - Raised on the vast plains of Aztec West, you grew up tending to the mythical creatures that roam the land, honing your skills as a rider and animal handler.'}, {'Trait': 'Player name', 'Description': 'Xelcha'}]\n"
     ]
    }
   ],
   "source": [
    "story_creator.get_player_info()\n",
    "\n",
    "print(story_creator.player_character)"
   ]
  },
  {
   "cell_type": "code",
   "execution_count": 6,
   "id": "4bd7a1e5",
   "metadata": {},
   "outputs": [
    {
     "name": "stdout",
     "output_type": "stream",
     "text": [
      "{\n",
      "  \"storyBeginning\": \"You start your journey in the small frontier town of Dusty Gulch, where you have been working as a Temple Guardian, defending the sacred sites of Aztec West from intruders. Your deep connection to the ancient temples and your ability to communicate with mythical creatures make you a formidable protector in this clash of cultures.\",\n",
      "  \"storyEnding\": \"If you're successful in this adventure, you will achieve a delicate balance between the Aztec heritage and the Old West, fostering unity and cooperation between the two cultures. Your actions will lead to a greater understanding and appreciation for both sides, ultimately bringing peace to Aztec West.\",\n",
      "  \"storyArc\": \"As a Temple Guardian, you must navigate the clash of cultures and the struggle for power in Aztec West. Your journey will take you from Dusty Gulch, where tensions are high, to the Temple of the Feathered Serpent, where you will receive a divine quest. Along the way, you will uncover ancient secrets, seek guidance from the spirits in the Canyon of Spirits, and forge a path of unity at El Dorado Ranch.\",\n",
      "  \"storyMainConflict\": \"The predominant conflict in Aztec West centers around the clash of cultures and the struggle for power. The Aztec gods, once worshiped in solitude, now find themselves sharing the attention with the ever-expanding influence of the Old West. This clash often leads to tensions, as cowboys and natives vie for control over land, resources, and the very soul of Aztec West.\",\n",
      "  \"mainStoryBeats\": [\n",
      "    {\n",
      "      \"storyBeatNumber\": 1,\n",
      "      \"description\": \"You receive a divine quest from Quetzalcoatl himself at the Temple of the Feathered Serpent. He tasks you with finding the legendary Golden Six-Shooter, a weapon said to hold immense power. This quest will take you to the Mystic Oasis, where you will seek guidance and uncover clues.\",\n",
      "      \"primaryLocation\": \"Temple of the Feathered Serpent\"\n",
      "    },\n",
      "    {\n",
      "      \"storyBeatNumber\": 2,\n",
      "      \"description\": \"You arrive at the Mystic Oasis and encounter a group of treasure hunters who are also searching for the Golden Six-Shooter. Through a series of challenges and riddles, you prove your worth and gain their trust. Together, you continue your journey towards the Canyon of Spirits.\",\n",
      "      \"primaryLocation\": \"Mystic Oasis\"\n",
      "    },\n",
      "    {\n",
      "      \"storyBeatNumber\": 3,\n",
      "      \"description\": \"In the Canyon of Spirits, you commune with the ancestors and receive visions that guide you towards El Dorado Ranch. There, you must convince both the Aztec natives and the cowboys to put aside their differences and work together for the greater good of Aztec West.\",\n",
      "      \"primaryLocation\": \"Canyon of Spirits\"\n",
      "    },\n",
      "    {\n",
      "      \"storyBeatNumber\": 4,\n",
      "      \"description\": \"At El Dorado Ranch, you organize a grand rodeo that showcases the unique skills of both the Aztec natives and the cowboys. Through this event, you foster a sense of unity and cooperation, breaking down the barriers between the two cultures.\",\n",
      "      \"primaryLocation\": \"El Dorado Ranch\"\n",
      "    },\n",
      "    {\n",
      "      \"storyBeatNumber\": 5,\n",
      "      \"description\": \"With the Golden Six-Shooter in hand, you return to the Temple of the Feathered Serpent and offer it as a symbol of unity between the Aztec gods and the Old West. The gods, pleased with your efforts, bless you with their divine favor, and Aztec West enters a new era of harmony and understanding.\",\n",
      "      \"primaryLocation\": \"Temple of the Feathered Serpent\"\n",
      "    }\n",
      "  ]\n",
      "}\n"
     ]
    }
   ],
   "source": [
    "story_beats = story_creator.get_story_beats()\n",
    "print(story_beats)"
   ]
  },
  {
   "cell_type": "code",
   "execution_count": 7,
   "id": "2dca4b42",
   "metadata": {},
   "outputs": [
    {
     "name": "stdout",
     "output_type": "stream",
     "text": [
      "Enter a name for your game save subfolder: Aztec west\n",
      "Game data saved in save_game\\Aztec west\n"
     ]
    }
   ],
   "source": [
    "story_creator.save_game_data()"
   ]
  },
  {
   "cell_type": "code",
   "execution_count": null,
   "id": "8fedc4b0",
   "metadata": {},
   "outputs": [],
   "source": [
    "story_creator.setting_details"
   ]
  },
  {
   "cell_type": "code",
   "execution_count": null,
   "id": "f2db8a07",
   "metadata": {},
   "outputs": [],
   "source": []
  }
 ],
 "metadata": {
  "kernelspec": {
   "display_name": "Python 3 (ipykernel)",
   "language": "python",
   "name": "python3"
  },
  "language_info": {
   "codemirror_mode": {
    "name": "ipython",
    "version": 3
   },
   "file_extension": ".py",
   "mimetype": "text/x-python",
   "name": "python",
   "nbconvert_exporter": "python",
   "pygments_lexer": "ipython3",
   "version": "3.9.12"
  }
 },
 "nbformat": 4,
 "nbformat_minor": 5
}
